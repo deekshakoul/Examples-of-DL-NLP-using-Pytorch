{
  "nbformat": 4,
  "nbformat_minor": 0,
  "metadata": {
    "colab": {
      "name": "MNIST handwritten classsification using NN.ipynb",
      "provenance": [],
      "collapsed_sections": [],
      "authorship_tag": "ABX9TyOFN+WGgNjzDjKn8SD7GLJb",
      "include_colab_link": true
    },
    "kernelspec": {
      "name": "python3",
      "display_name": "Python 3"
    }
  },
  "cells": [
    {
      "cell_type": "markdown",
      "metadata": {
        "id": "view-in-github",
        "colab_type": "text"
      },
      "source": [
        "<a href=\"https://colab.research.google.com/github/deekshakoul/Examples-of-DL-NLP-using-Pytorch/blob/master/MNIST_handwritten_classsification_using_NN.ipynb\" target=\"_parent\"><img src=\"https://colab.research.google.com/assets/colab-badge.svg\" alt=\"Open In Colab\"/></a>"
      ]
    },
    {
      "cell_type": "markdown",
      "metadata": {
        "id": "j1d83xkHEVoa",
        "colab_type": "text"
      },
      "source": [
        "Feedforward Neural Networks : no looping, activation flows from input layer to output"
      ]
    },
    {
      "cell_type": "markdown",
      "metadata": {
        "id": "00MNUpNXe9bM",
        "colab_type": "text"
      },
      "source": [
        "Step 1: Load Dataset - MNIST "
      ]
    },
    {
      "cell_type": "code",
      "metadata": {
        "id": "dbFX2DjRe8qA",
        "colab_type": "code",
        "colab": {}
      },
      "source": [
        "import torch\n",
        "import torch.nn as nn\n",
        "import torchvision.transforms as transforms\n",
        "import torchvision.datasets as dsets"
      ],
      "execution_count": null,
      "outputs": []
    },
    {
      "cell_type": "code",
      "metadata": {
        "id": "gOEMwGQSfD00",
        "colab_type": "code",
        "colab": {}
      },
      "source": [
        "train_dataset = dsets.MNIST(root='./data', \n",
        "                            train=True, \n",
        "                            transform=transforms.ToTensor(),\n",
        "                            download=True)\n",
        "\n",
        "test_dataset = dsets.MNIST(root='./data', \n",
        "                           train=False, \n",
        "                           transform=transforms.ToTensor())"
      ],
      "execution_count": null,
      "outputs": []
    },
    {
      "cell_type": "code",
      "metadata": {
        "id": "MEhDjxR3gxYr",
        "colab_type": "code",
        "colab": {
          "base_uri": "https://localhost:8080/",
          "height": 35
        },
        "outputId": "08466586-59b8-4dd5-a4ef-99c6496695cf"
      },
      "source": [
        "# 60,000 images\n",
        "#each image : a tuple of Tensor and integer\n",
        "#size of tensor is 1,28,28 : 3D i.e of form :::  torch.tensor( [ [..], [..], ....    ]  )\n",
        "#tensor - train[0][0] --a tensor made of tensors\n",
        "# torchvision.datasets.mnist.MNIST type --> train data set\n",
        "#ex. train_dataset[0][0][0][2] as third row of 1st image\n",
        "type(train_dataset)"
      ],
      "execution_count": null,
      "outputs": [
        {
          "output_type": "execute_result",
          "data": {
            "text/plain": [
              "torchvision.datasets.mnist.MNIST"
            ]
          },
          "metadata": {
            "tags": []
          },
          "execution_count": 5
        }
      ]
    },
    {
      "cell_type": "code",
      "metadata": {
        "id": "mLbUDc1X9Gf3",
        "colab_type": "code",
        "colab": {}
      },
      "source": [
        "#Plot image of MNIST image\n",
        "import matplotlib.pyplot as plt\n",
        "%matplotlib inline  \n",
        "import numpy as np\n",
        "\n",
        "show_img = train_dataset[0][0].numpy().reshape(28, 28)\n",
        "\n",
        "plt.imshow(show_img, cmap='gray')"
      ],
      "execution_count": null,
      "outputs": []
    },
    {
      "cell_type": "markdown",
      "metadata": {
        "id": "hLUh2wm0nkER",
        "colab_type": "text"
      },
      "source": [
        "**Step 2: Make Dataset Iterable**   \n",
        "To resolve OOM errors and gradually update the model, we split the train data into batches                                  \n",
        "If we have 60,000 images and we want a batch size of 100, then we would have 600 iterations where each iteration involves passing 600 images to the model and getting their respective predictions.\n",
        "\n",
        "An epoch means that you have successfully passed the whole training set, 60,000 images, to the model. Continuing our example above, an epoch consists of 600 iterations.\n",
        "\n",
        "If we want to go through the **whole dataset 5 times (5 epochs)** for the model to learn, then we need 3000 iterations (600 x 5). "
      ]
    },
    {
      "cell_type": "code",
      "metadata": {
        "id": "QUWdDUeVni62",
        "colab_type": "code",
        "colab": {}
      },
      "source": [
        "images = len(train_dataset)\n",
        "batch_size = 100\n",
        "itr = images/batch_size \n",
        "#we need 5 epochs\n",
        "#in \"itr\" iterations we have covered all data sets --> one epoch\n",
        "n_iters = 3000\n",
        "num_epochs  = int(n_iters/itr)\n",
        "train_loader = torch.utils.data.DataLoader(dataset=train_dataset, \n",
        "                                           batch_size=batch_size, \n",
        "                                           shuffle=True)\n",
        "\n",
        "test_loader = torch.utils.data.DataLoader(dataset=test_dataset, \n",
        "                                          batch_size=batch_size, \n",
        "                                          shuffle=False)"
      ],
      "execution_count": null,
      "outputs": []
    },
    {
      "cell_type": "markdown",
      "metadata": {
        "id": "WLzy-JGZw997",
        "colab_type": "text"
      },
      "source": [
        "**Step 3: Create Model Class**\n",
        "\n",
        "\n",
        "![image.png](data:image/png;base64,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)\n",
        "\n",
        "\n",
        "\n",
        "Compared to logistic regression (cannot represent non-linear functions) with only a single linear layer, we know for an FNN we need an additional linear layer and non-linear layer. \n",
        "![alt text](https://www.deeplearningwizard.com/deep_learning/practical_pytorch/images/nn1_params3.png)"
      ]
    },
    {
      "cell_type": "markdown",
      "metadata": {
        "id": "9ga0iG2n06e-",
        "colab_type": "text"
      },
      "source": [
        "For every image, we pass it to our model as :\n",
        "\n",
        "  first linear layer: Ax+b, input: 784x1 output: 100x1\n",
        "\n",
        "  second hidden layer of non-linear function: 100x1\n",
        "  \n",
        "  third linear layer: input: 100x1 output:10x1 \n",
        "\n",
        "  This is the final output from our model - 10x1 \n",
        " \n",
        "  Pass this output(basically y = ax+b) to softmax and cross entropy"
      ]
    },
    {
      "cell_type": "code",
      "metadata": {
        "id": "B5fEh5ihw7r1",
        "colab_type": "code",
        "colab": {}
      },
      "source": [
        "class FeedForwardNN(nn.Module):\n",
        "  def __init__(self,input,hidden,outer): #constructor\n",
        "    super(FeedForwardNN, self).__init__()      \n",
        "    self.ff1 = nn.Linear(input,hidden)   #in_features: 784, out_features: 100\n",
        "    self.ff2 = nn.Sigmoid() \n",
        "    self.ff3 = nn.Linear(hidden,outer)  #outer dim: 10\n",
        "\n",
        "  def forward(self, x): #pass input x image of 784 length(28x28)\n",
        "\n",
        "    out = self.ff1(x); \n",
        "    out = self.ff2(out);\n",
        "    out = self.ff3(out);\n",
        "    \n",
        "    return out;"
      ],
      "execution_count": null,
      "outputs": []
    },
    {
      "cell_type": "markdown",
      "metadata": {
        "id": "n5q_RrUy751J",
        "colab_type": "text"
      },
      "source": [
        "**Step 4: Instantiate Model Class**"
      ]
    },
    {
      "cell_type": "code",
      "metadata": {
        "id": "oIJbUoBy5Dv7",
        "colab_type": "code",
        "colab": {}
      },
      "source": [
        "input = 784\n",
        "hidden = 100\n",
        "outer = 10\n",
        "model = FeedForwardNN(input,hidden,outer)"
      ],
      "execution_count": null,
      "outputs": []
    },
    {
      "cell_type": "markdown",
      "metadata": {
        "id": "OHcn6YBz8DwO",
        "colab_type": "text"
      },
      "source": [
        "**Step 5: Instantiate Loss Class**\n",
        "\n",
        "Unlike linear regression, we do not use MSE here, we need Cross Entry Loss to calculate our loss before we backpropagate and update our parameters.\n",
        "\n",
        "**criterion = nn.CrossEntropyLoss()**\n",
        "\n",
        "\n",
        "It does 2 things at the same time.\n",
        "1. Computes softmax (logistic/softmax function)\n",
        "2. Computes cross entropy\n",
        "\n",
        "implies the output from our model will be directly fill int loss class that will compute the probability distribution(softmax) and then the labels( these are computed via cross entropy function)\n",
        "\n",
        "***This criterion combines nn.LogSoftmax() and nn.NLLLoss() in one single class.***"
      ]
    },
    {
      "cell_type": "code",
      "metadata": {
        "id": "IAlTmiamsUJJ",
        "colab_type": "code",
        "colab": {}
      },
      "source": [
        "criterion = nn.CrossEntropyLoss()  "
      ],
      "execution_count": null,
      "outputs": []
    },
    {
      "cell_type": "markdown",
      "metadata": {
        "id": "V5CiB7jaJ34y",
        "colab_type": "text"
      },
      "source": [
        "**Step 6: Instantiate Optimizer Class**\n",
        "\n",
        "θ = θ − η⋅∇θ\n",
        "\n",
        "At every iteration, we update our model's parameters\n",
        "\n",
        "parameters = parameters - learning_rate * parameters_gradients"
      ]
    },
    {
      "cell_type": "code",
      "metadata": {
        "id": "zToDKL0fKdLY",
        "colab_type": "code",
        "colab": {}
      },
      "source": [
        "learning_rate = 0.1\n",
        "\n",
        "optimizer = torch.optim.SGD(model.parameters(), lr=learning_rate) "
      ],
      "execution_count": null,
      "outputs": []
    },
    {
      "cell_type": "code",
      "metadata": {
        "id": "nLfUEYEcKy6-",
        "colab_type": "code",
        "colab": {}
      },
      "source": [
        "#parameters of model (two linear layers will have A1,B1 and A2,B2)\n",
        "print(len(list(model.parameters()))) #4\n",
        "print(list(model.parameters())[0].size()) #size of A in first linear layer\n",
        "print(list(model.parameters())[1].size()) #size of B in first linear layer"
      ],
      "execution_count": null,
      "outputs": []
    },
    {
      "cell_type": "markdown",
      "metadata": {
        "id": "aSfUxaddLd9B",
        "colab_type": "text"
      },
      "source": [
        "**Step 7: Train Model**\n",
        "\n",
        "Process \n",
        "*  Convert inputs to tensors with gradient accumulation capabilities\n",
        "*  Clear gradient buffers\n",
        "*  Get output given inputs\n",
        "*  Get loss\n",
        "*  Get gradients w.r.t. parameters\n",
        "*  Update parameters using gradients\n",
        "*  parameters = parameters - learning_rate * parameters_gradients\n",
        "*  REPEAT\n"
      ]
    },
    {
      "cell_type": "code",
      "metadata": {
        "id": "Y3TommjmLb4g",
        "colab_type": "code",
        "colab": {}
      },
      "source": [
        "iter = 0\n",
        "for epoch in range(num_epochs):\n",
        "\n",
        "  for i, (images , label) in enumerate(train_loader): \n",
        "    \n",
        "    #tuple: tensor [1,28,28] and integer\n",
        "    #for every iteration of train loader we have images : Size([100, 1, 28, 28]) and labels : Size([100])  \n",
        "    images = images.view(-1,28*28).requires_grad_() #view(-1, c) : number of columnns = c\n",
        "    #now images will be [100,786]\n",
        "    #batch size was 100\n",
        "\n",
        "    #clear gradients\n",
        "    optimizer.zero_grad();\n",
        "    \n",
        "    #forward pass to model\n",
        "    out = model(images) # [100,10] , for each image 10 outputs\n",
        "    \n",
        "    #for each image out of 100 batch: compute softmax i.e prob distribution over 10 values, calculates the cross entropy funcction()\n",
        "    #finally calculates cross entropy loss over 100 samples\n",
        "    loss = criterion(out,label)\n",
        "\n",
        "    # Getting gradients w.r.t. parameters\n",
        "    loss.backward()\n",
        "\n",
        "    # Updating parameters\n",
        "    optimizer.step()\n",
        "    iter += 1\n",
        "    \n",
        "    #prediction\n",
        "    if iter%500 == 0:\n",
        "      correct = 0\n",
        "      total = 0\n",
        "      for images, labels in test_loader:\n",
        "        images = images.view(-1,28*28).requires_grad_()       \n",
        "        out = model(images)\n",
        "        _, predicted = torch.max(out.data, 1)\n",
        "        total += labels.size(0) #batch size 100\n",
        "        correct += (predicted == labels).sum()\n",
        "\n",
        "      accuracy = 100 * correct / \n",
        "      total\n",
        "\n",
        "            # Print Loss\n",
        "      print('Iteration: {}. Loss: {}. Accuracy: {}'.format(iter, loss.item(), accuracy))   "
      ],
      "execution_count": null,
      "outputs": []
    },
    {
      "cell_type": "markdown",
      "metadata": {
        "id": "pOwthOkc5WHo",
        "colab_type": "text"
      },
      "source": [
        "**Building NN with GPU**\n",
        "\n",
        "GPU: 2 things must be on GPU - model - tensors"
      ]
    },
    {
      "cell_type": "code",
      "metadata": {
        "id": "9X8xcKRQ5U92",
        "colab_type": "code",
        "colab": {}
      },
      "source": [
        "'''\n",
        "STEP 4: INSTANTIATE MODEL CLASS\n",
        "'''\n",
        "input_dim = 28*28\n",
        "hidden_dim = 100\n",
        "output_dim = 10\n",
        "\n",
        "model = FeedforwardNeuralNetModel(input_dim, hidden_dim, output_dim)\n",
        "\n",
        "#######################\n",
        "#  USE GPU FOR MODEL  #\n",
        "#######################\n",
        "\n",
        "device = torch.device(\"cuda:0\" if torch.cuda.is_available() else \"cpu\")\n",
        "model.to(device)\n",
        "\n",
        "##WHILE TRAINING##\n",
        "images = images.view(-1, 28*28).requires_grad_().to(device)\n",
        "labels = labels.to(device)\n",
        "\n",
        " #######################\n",
        " # USE GPU FOR MODEL #\n",
        " #######################\n",
        " # Total correct predictions\n",
        " if torch.cuda.is_available():\n",
        "   correct += (predicted.cpu() == labels.cpu()).sum()\n",
        " else:\n",
        "   correct += (predicted == labels).sum()\n"
      ],
      "execution_count": null,
      "outputs": []
    }
  ]
}